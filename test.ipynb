{
 "cells": [
  {
   "cell_type": "code",
   "execution_count": 1,
   "metadata": {},
   "outputs": [
    {
     "name": "stdout",
     "output_type": "stream",
     "text": [
      "Defaulting to user installation because normal site-packages is not writeable\n",
      "Requirement already satisfied: requests in c:\\users\\feder\\appdata\\roaming\\python\\python39\\site-packages (2.28.2)\n",
      "Requirement already satisfied: certifi>=2017.4.17 in c:\\users\\feder\\appdata\\roaming\\python\\python39\\site-packages (from requests) (2022.12.7)\n",
      "Requirement already satisfied: urllib3<1.27,>=1.21.1 in c:\\users\\feder\\appdata\\roaming\\python\\python39\\site-packages (from requests) (1.26.15)\n",
      "Requirement already satisfied: idna<4,>=2.5 in c:\\users\\feder\\appdata\\roaming\\python\\python39\\site-packages (from requests) (3.4)\n",
      "Requirement already satisfied: charset-normalizer<4,>=2 in c:\\users\\feder\\appdata\\roaming\\python\\python39\\site-packages (from requests) (3.1.0)\n",
      "Note: you may need to restart the kernel to use updated packages.\n"
     ]
    },
    {
     "name": "stderr",
     "output_type": "stream",
     "text": [
      "WARNING: You are using pip version 22.0.4; however, version 23.1.2 is available.\n",
      "You should consider upgrading via the 'c:\\Program Files (x86)\\Microsoft Visual Studio\\Shared\\Python39_64\\python.exe -m pip install --upgrade pip' command.\n"
     ]
    },
    {
     "name": "stdout",
     "output_type": "stream",
     "text": [
      "Defaulting to user installation because normal site-packages is not writeable\n",
      "Requirement already satisfied: beautifulsoup4 in c:\\users\\feder\\appdata\\roaming\\python\\python39\\site-packages (4.12.2)\n",
      "Requirement already satisfied: soupsieve>1.2 in c:\\users\\feder\\appdata\\roaming\\python\\python39\\site-packages (from beautifulsoup4) (2.4.1)\n",
      "Note: you may need to restart the kernel to use updated packages.\n"
     ]
    },
    {
     "name": "stderr",
     "output_type": "stream",
     "text": [
      "WARNING: You are using pip version 22.0.4; however, version 23.1.2 is available.\n",
      "You should consider upgrading via the 'c:\\Program Files (x86)\\Microsoft Visual Studio\\Shared\\Python39_64\\python.exe -m pip install --upgrade pip' command.\n"
     ]
    },
    {
     "name": "stdout",
     "output_type": "stream",
     "text": [
      "Defaulting to user installation because normal site-packages is not writeable\n",
      "Requirement already satisfied: lxml in c:\\users\\feder\\appdata\\roaming\\python\\python39\\site-packages (4.9.2)\n",
      "Note: you may need to restart the kernel to use updated packages.\n"
     ]
    },
    {
     "name": "stderr",
     "output_type": "stream",
     "text": [
      "WARNING: You are using pip version 22.0.4; however, version 23.1.2 is available.\n",
      "You should consider upgrading via the 'c:\\Program Files (x86)\\Microsoft Visual Studio\\Shared\\Python39_64\\python.exe -m pip install --upgrade pip' command.\n"
     ]
    },
    {
     "name": "stdout",
     "output_type": "stream",
     "text": [
      "Defaulting to user installation because normal site-packages is not writeable\n",
      "Requirement already satisfied: ebooklib in c:\\users\\feder\\appdata\\roaming\\python\\python39\\site-packages (0.18)\n",
      "Requirement already satisfied: lxml in c:\\users\\feder\\appdata\\roaming\\python\\python39\\site-packages (from ebooklib) (4.9.2)\n",
      "Requirement already satisfied: six in c:\\users\\feder\\appdata\\roaming\\python\\python39\\site-packages (from ebooklib) (1.16.0)\n",
      "Note: you may need to restart the kernel to use updated packages.\n"
     ]
    },
    {
     "name": "stderr",
     "output_type": "stream",
     "text": [
      "WARNING: You are using pip version 22.0.4; however, version 23.1.2 is available.\n",
      "You should consider upgrading via the 'c:\\Program Files (x86)\\Microsoft Visual Studio\\Shared\\Python39_64\\python.exe -m pip install --upgrade pip' command.\n"
     ]
    }
   ],
   "source": [
    "%pip install requests\n",
    "%pip install beautifulsoup4\n",
    "%pip install lxml\n",
    "%pip install ebooklib"
   ]
  },
  {
   "cell_type": "code",
   "execution_count": 2,
   "metadata": {},
   "outputs": [],
   "source": [
    "import requests\n",
    "from bs4 import BeautifulSoup\n",
    "from lxml import etree\n",
    "import lxml.html"
   ]
  },
  {
   "cell_type": "code",
   "execution_count": 3,
   "metadata": {},
   "outputs": [],
   "source": [
    "page = requests.get('https://www.royalroad.com/fiction/57697/ends-of-magic-antimage-litrpg')"
   ]
  },
  {
   "cell_type": "code",
   "execution_count": 5,
   "metadata": {},
   "outputs": [],
   "source": [
    "dom = etree.HTML(page.text)"
   ]
  },
  {
   "cell_type": "code",
   "execution_count": 8,
   "metadata": {},
   "outputs": [
    {
     "data": {
      "text/plain": [
       "'https://www.royalroadcdn.com/public/covers-large/ends-of-magic-aabave1s-xe.jpg?time=1660537203'"
      ]
     },
     "execution_count": 8,
     "metadata": {},
     "output_type": "execute_result"
    }
   ],
   "source": [
    "dom.xpath(\"//img[@class='thumbnail inline-block']\")[0].attrib['src']"
   ]
  },
  {
   "cell_type": "code",
   "execution_count": 39,
   "metadata": {},
   "outputs": [],
   "source": [
    "dom.find('chapter-inner chapter-content')"
   ]
  },
  {
   "cell_type": "code",
   "execution_count": 40,
   "metadata": {},
   "outputs": [],
   "source": [
    "page_chapters = dom.xpath('/html/body/div[3]/div/div/div/div[1]/div/div[2]/div/div[2]/div[5]/div[2]/table/tbody')[0]"
   ]
  },
  {
   "cell_type": "code",
   "execution_count": 41,
   "metadata": {},
   "outputs": [],
   "source": [
    "chapters = []\n",
    "for child in page_chapters.getchildren():\n",
    "    chapters.append(child.attrib['data-url'])"
   ]
  },
  {
   "cell_type": "code",
   "execution_count": 44,
   "metadata": {},
   "outputs": [
    {
     "data": {
      "text/plain": [
       "<Response [200]>"
      ]
     },
     "execution_count": 44,
     "metadata": {},
     "output_type": "execute_result"
    }
   ],
   "source": [
    "requests.get('https://www.royalroad.com' + chapters[0])"
   ]
  },
  {
   "cell_type": "code",
   "execution_count": 45,
   "metadata": {},
   "outputs": [],
   "source": [
    "pp = etree.HTML(requests.get('https://www.royalroad.com' + chapters[0]).text)"
   ]
  },
  {
   "cell_type": "code",
   "execution_count": 49,
   "metadata": {},
   "outputs": [],
   "source": [
    "au = pp.xpath(\"//div[@class='chapter-inner chapter-content']\")[0]"
   ]
  },
  {
   "cell_type": "code",
   "execution_count": 52,
   "metadata": {},
   "outputs": [
    {
     "data": {
      "text/plain": [
       "['chapter-inner chapter-content']"
      ]
     },
     "execution_count": 52,
     "metadata": {},
     "output_type": "execute_result"
    }
   ],
   "source": [
    "au.values()"
   ]
  },
  {
   "cell_type": "code",
   "execution_count": 57,
   "metadata": {},
   "outputs": [
    {
     "data": {
      "text/plain": [
       "b'<div class=\"chapter-inner chapter-content\">\\n                <p><span style=\"font-weight: 400\">Nathan twisted the key to his apartment&#8217;s front door and felt the heavy bolt clunk back. He took three steps into the darkened single-room studio, swinging the door closed and shucking his backpack into the center of the bright carpet that took up most of the open floor space. Then he flopped into the overstuffed armchair that was the largest piece of furniture in the place, aside from the bed.</span></p>\\n<p><span style=\"font-weight: 400\">It had been a nightmare to get the chair up the stairs and into the apartment, but Nathan&#8217;s friends had earned their pizza for helping him move out of the graduate student dorms a few years ago. Besides, he&#8217;d found the comfortable chair marked &#8216;up for grabs&#8217; on the street when somebody had moved out. On a graduate student&#8217;s stipend it was hard to turn down comfortable furniture for the low price of </span><em><span style=\"font-weight: 400\">free</span></em><span style=\"font-weight: 400\">.</span></p>\\n<p><span style=\"font-weight: 400\">Sighing, Nathan twisted in the chair to fish his phone from underneath his wallet and keys, pulling up the meditation app. He&#8217;d started doing mindfulness meditation almost a year ago to help deal with the anxiety of graduate school. To his surprise, it had helped.</span></p>\\n<p><em><span style=\"font-weight: 400\">I&#8217;m definitely better about not just sitting in this chair and feeling bad about everything I should be doing. I can meditate and feel productive about not doing anything instead!</span></em></p>\\n<p><span style=\"font-weight: 400\">Nathan started the session, listening to the soothing voice through his earbuds as he relaxed deeper into the cushions. He let his mind relax, stilling his inner voice and focusing on the sensations of breathing, of gravity pulling his body into the chair.</span></p>\\n<p><span style=\"font-weight: 400\">Time passed, and Nathan didn&#8217;t focus on anything. He didn&#8217;t plan, and he especially didn&#8217;t worry about the fellowship application due soon or tomorrow&#8217;s experiment that would cap off the last two months of work. If that experiment worked, it would be a big step forward towards his doctorate. If it didn&#8217;t&#8230; well. It depended on how it didn&#8217;t work. Nathan realized he was spiraling, and with a moment of attention the worries dissipated like smoke.</span></p>\\n<p><span style=\"font-weight: 400\">Some more time passed, and another thought intruded on Nathan&#8217;s mind. [A kinnar avi, nukol ad kayikxrokko, dlan avail-xalark da dhak!]</span></p>\\n<p><span style=\"font-weight: 400\">He was confused.</span></p>\\n<p><span style=\"font-weight: 400\">The words had emerged clearly in his consciousness in a deep, booming voice, but he didn&#8217;t understand where they&#8217;d come from or what language it was. He was pretty sure they hadn&#8217;t come from the earbuds - the words had seemed injected directly into his brain. </span></p>\\n<p><span style=\"font-weight: 400\">He was about to stop meditating early and start making dinner when it happened again, the words more forceful this time. They pressed against the inside of his head, grinding and overwhelming. [A KINNAR AVI. DANO DA NO JAILROAV UDLAKK DHO XAAK. A KINNAR AVI]</span></p>\\n<p><span style=\"font-weight: 400\">Nathan&#8217;s eyes snapped open and he tore off his earbuds, exhaling with frustration. </span></p>\\n<p><em><span style=\"font-weight: 400\">I don&#8217;t need this now! Can&#8217;t it wait until after the cytometry experiment? Just gimme a 24-hour rain check. </span></em></p>\\n<p><span style=\"font-weight: 400\">He started to stand, but the voice crashed into his skull for a third time. It wiped out thought.</span></p>\\n<p><span style=\"font-size: 1.1em\"><span style=\"font-weight: 400\">[</span><strong>DANO DA NO]</strong></span></p>\\n<p><span style=\"font-weight: 400\">Nathan didn&#8217;t feel the chair under him anymore, or the clothes on his skin. His eyes were open and saw nothing but black. Air tore itself from his open mouth and his ears spiked in pain.</span></p>\\n<p><em><span style=\"font-weight: 400\">This must be what being in vacuum feels like. Why aren&#8217;t there any stars?</span></em></p>\\n<p><span style=\"font-weight: 400\">Nathan flailed, accomplishing nothing but feeling the vacuum pulling on his lungs and eyes and the spit in his mouth boiling away. He tumbled in absolute darkness, with no reference point and no sense of anything other than himself.</span></p>\\n<p><span style=\"font-weight: 400\">After what must have been mere seconds but felt much longer, he tumbled into brightness, landing on his butt on smooth stone. With vision tunneling, he heaved deep breaths, paying attention to nothing but pumping air in and out of his abused lungs. After a minute of slowing breaths, he looked around the room.</span></p>\\n<p><em><span style=\"font-weight: 400\">Why am I naked? </span></em></p>\\n<p><span style=\"font-weight: 400\">He was sitting in a shallow bowl of cold stone in the center of a large room. The entire place was made of the same smooth pale stone under his but, all lit evenly by a grid of bright lights in the ceiling. It looked like a cleanroom done in pale marble. </span></p>\\n<p><span style=\"font-weight: 400\">The bowl was only a foot deep and several feet wide, so he could see out easily. The room around him was decorated with several pedestals capped with orbs shining in muted purples, yellows and blues. They were linked together by a complex grid of glowing metal that looked like nothing so much as multiple overlapping circuit boards. The metal started dimming in color before his eyes, losing some of the blinding radiance. . </span></p>\\n<p><span style=\"font-weight: 400\">The formation wasn&#8217;t centered on Nathan, but rather right behind him. He scooted around, sitting on his hands to protect his butt from the cold stone. There was a metal filigree arch supporting a horizontal disk of exquisitely carved stone eight feet across. Multicolored lights emanated from a series of enormous gemstones inlaid into the arch and the stone. Over the disc hovered a horizontal portal into darkness, rapidly shrinking until it vanished with a tiny &#8216;pop&#8217;.</span></p>\\n<p><span style=\"font-weight: 400\">Nathan stared blankly at the disk, losing himself in the fractal-like carvings for a moment. </span></p>\\n<p><em><span style=\"font-weight: 400\">Whatever that is, it&#8217;s beautiful. It&#8217;s like an arcane language or art, all carved with mathematical precision. Magic? </span></em></p>\\n<p><span style=\"font-weight: 400\">Then Nathan&#8217;s attention was drawn by movement beyond the arch. There was a man on a low dais at the edge of the room, and it looked like he was concluding a victory dance, pumping his fists and bouncing like somebody who had just won the lottery, his orange robe flapping around him. Just beyond him were a pair of humanoid statues with eerie levels of detail, flanking the door out of the room.</span></p>\\n<p><span style=\"font-weight: 400\">The orange-robed man saw Nathan looking at him, and held out his palm, the semi-universal gesture for &#8216;stop&#8217; as he mouthed a word that didn&#8217;t look like &#8216;stop&#8217; at all. He busied himself at what looked like nothing so much as a wide control panel, complete with flashing lights. The grid of equipment surrounding Nathan dimmed even faster, quickly turning into a mix of shiny metal in steel, copper and gold tones. The shining orbs lost their glow, many of them cracking apart with a faint tinkling sound that sounded expensive.</span></p>\\n<p><span style=\"font-weight: 400\">The man hopped down from the dais, nearly skipping over to Nathan&#8217;s bowl. He kept his attention fixed on Nathan, not sparing a second glance for the complicated apparatus that he threaded his bulk through with a deftness bourne of familiarity. </span></p>\\n<p><span style=\"font-weight: 400\">Nathan found the man&#8217;s single-minded focus unnerving, and looked around for anything to cover himself with. He settled for simply putting a hand in front of his genitals before looking up and observing the man who was just now approaching Nathan&#8217;s bowl. </span></p>\\n<p><span style=\"font-weight: 400\">He looked to be an average height man in late-middle age, fairly pudgy, with a full head of black hair and a wide, stubbly face. His eyes glowed orange (</span><em><span style=\"font-weight: 400\">what?</span></em><span style=\"font-weight: 400\">) and his face was full of excitement as he stopped in front of Nathan. He clapped his hands together and spoke in a low, fast voice. &#8220;Dhak ak ka odadark!&#8221;</span></p>\\n<p><span style=\"font-weight: 400\">It sounded like the same deep voice Nathan had heard in his head earlier, and Nathan looked up at him dumbly and spoke with a raw throat. &#8220;Excuse me, sorry, but what?&#8221; The man slapped one hand across each eye in a gesture that looked self-admonishing, before quickly stepping forward and laying a hand on Nathan&#8217;s forehead.</span></p>\\n<p><span style=\"font-weight: 400\">[Ankiko Rurkiuko]</span></p>\\n<p><span style=\"font-weight: 400\">Orange light emitted from the man&#8217;s mouth with the words - and from the hand on Nathan&#8217;s forehead. Nathan\\'s head spiked in pain, a pressure and tightness squeezing down behind both temples like a concussion combined with the worst migraine Nathan had ever had. His eyes slammed shut and Nathan collapsed sideways. Both hands flew to his head, modesty forgotten. </span></p>\\n<p><span style=\"font-weight: 400\">After a brief moment he heard the man&#8217;s voice again, and Nathan felt the language was more familiar than before. Cold and unyielding hands slid underneath him, lifting Nathan gently off the floor as he tried to curl into a ball around the pain in his head.</span></p>\\n<p><span style=\"font-weight: 400\">Whatever was carrying him felt more like a statue than a person. Nathan felt its steps carry him across the room, down a staircase and through a hallway. The pain in his head receded rapidly, and he blinked teary eyes open. He was being carried by a humanoid statue made of the same sand-colored marble as the walls. A multicolored opalescence shone from its eyes. Then a blue box flashed in Nathan&#8217;s vision, front and center.</span></p>\\n<div style=\"max-width: 100%; overflow:auto\"><table style=\"width: 67.3673%\">\\n<tbody>\\n<tr>\\n<td style=\"width: 100%\">\\n<p style=\"text-align: center\"><span style=\"font-weight: 400\">Welcome to Davrar</span></p>\\n<p style=\"text-align: center\"><span style=\"font-weight: 400\">Davrar will help you survive</span></p>\\n<p style=\"text-align: center\"><span style=\"font-weight: 400\">Adapting you to the local biosystem</span></p>\\n<p style=\"text-align: center\"><span style=\"font-weight: 400\">Calibrating to your understanding and determining your capabilities</span></p>\\n<p style=\"text-align: center\"><span style=\"font-weight: 400\">Please, be patient, this will not take long</span></p>\\n</td>\\n</tr>\\n</tbody>\\n</table></div>\\n<p><em><span style=\"font-weight: 400\">What.</span></em></p>\\n<p><span style=\"font-weight: 400\">Nathan desperately wanted to figure out what any of that meant, but the box vanished as soon as he parsed what it said. The man in orange was hovering next to him and when he saw Nathan open his eyes he heaved a relieved sigh and started to talk quickly. &#8220;Hail the Giant, you must be so confused. Be patient just a moment and all will be explained.&#8221; Each word caused another pulse of pain, but they were just faint wisps of the paired migraine of a moment before.</span></p>\\n<p><em><span style=\"font-weight: 400\">Hang on, that wasn&#8217;t English or Spanish. And neither was the text in the box. How did I understand that? Was that magic? I&#8217;m being carried by a statue?</span></em></p>\\n<p><span style=\"font-weight: 400\">The man had distinctly spoken in the same language as before, but Nathan understood all the words and the grammar. His head was sore, his breathing uncertain and too many questions and observations swirled in his mind, so he let the statue carry him down another flight of stairs and to a metal door.</span></p>\\n<p><span style=\"font-weight: 400\">Beyond the door was a small stone room in the same seamless pale marble, complete with bed, table and two chairs in light wood. In one corner of the room a trough of water smoothly ran underneath a hollowed-out seat. The statue (or golem? Animated object?) gently set Nathan down in one of the chairs, on one side of the table. The orange-robed man smoothly slid into the seat across the table and his orange eyes focused on Nathan&#8217;s face like two searchlights. Given that they were faintly glowing, it wasn&#8217;t too bad of a comparison.</span></p>\\n<p><span style=\"font-weight: 400\">&#8220;I will explain. I am Grand Dimension Archmage Taeol dho Droxol, seventh finger and third researcher of the Ascendant Academy of Giantsrest. I have summoned you here in a grand quest for Insights and power. I scried across dimensions to find&#8230;&#8221; he was interrupted by Nathan loudly coughing into his elbow, his lungs feeling scraped raw. Taeol&#8217;s eyes widened briefly, and he took in Nathan&#8217;s teary eyes and naked body. &#8220;Oh, a </span><em><span style=\"font-weight: 400\">gauntlet </span></em><span style=\"font-weight: 400\">of apologies. You have had a long journey&#8221;. His lips curved into a self-satisfied smile. &#8220;A very long journey&#8221;.</span></p>\\n<p><span style=\"font-weight: 400\">Taeol sized up Nathan, then gestured to the statue/golem. &#8220;Fetch an extra-large apprentice robe, a bowl of porridge and one spoon&#8221;. The golem immediately turned and left the room, closing the door behind it. Taeol leaned across the table, catching Nathan&#8217;s left hand in his right even as Nathan flinched away. He spoke again in that resonant voice that Nathan was starting to associate with spellcasting.</span></p>\\n<p><span style=\"font-weight: 400\">[Moderate Curing]</span></p>\\n<p><span style=\"font-weight: 400\">Nathan&#8217;s residual headache lessened dramatically, his breathing evened out and the ringing in his ears reduced to background noise.</span></p>\\n<p><em><span style=\"font-weight: 400\">He called himself an archmage! He used magic on me! There&#8217;s magic here and</span></em><span style=\"font-weight: 400\"> I </span><em><span style=\"font-weight: 400\">can probably learn it!</span></em></p>\\n<p><span style=\"font-weight: 400\">Excitement quickly replaced the pain. Nathan knew he should probably be scared, he should probably ask what the hell had just happened to bring him here. But instead his mouth spoke the words at the front of his mind. &#8220;Can I learn magic?&#8221;</span></p>\\n<p><span style=\"font-weight: 400\">Taeol smiled again, broad and genuine. &#8220;Yes my boy. You will give me the secrets of your world, and I will teach you magic. Together we will grasp Davrar and bring it to our breast!&#8221;</span></p>\\n            </div>\\n                '"
      ]
     },
     "execution_count": 57,
     "metadata": {},
     "output_type": "execute_result"
    }
   ],
   "source": [
    "lxml.html.tostring(au)"
   ]
  },
  {
   "cell_type": "code",
   "execution_count": 22,
   "metadata": {},
   "outputs": [],
   "source": [
    "page = requests.get('https://www.royalroad.com/fiction/57697/ends-of-magic-antimage-litrpg')\n",
    "\n",
    "html_page = etree.HTML(page.text)\n",
    "\n",
    "page_cover  = html_page.xpath(\"//img[@class='thumbnail inline-block']\")[0]\n",
    "cover_link = page_cover.attrib['src']"
   ]
  },
  {
   "cell_type": "code",
   "execution_count": 23,
   "metadata": {},
   "outputs": [],
   "source": [
    "cover_page = requests.get(cover_link, allow_redirects=True)"
   ]
  },
  {
   "cell_type": "code",
   "execution_count": 15,
   "metadata": {},
   "outputs": [],
   "source": [
    "request_chapter_html = requests.get(chapters[0])\n",
    "chapter_html = etree.HTML(request_chapter_html.text)\n",
    "    \n",
    "page_content = chapter_html.xpath(\"//div[@class='chapter-inner chapter-content']\")[0]"
   ]
  },
  {
   "cell_type": "code",
   "execution_count": 18,
   "metadata": {},
   "outputs": [],
   "source": [
    "title_h1 = chapter_html.xpath('/html/body/div[3]/div/div/div/div/div[1]/div/div[2]/h1')[0]"
   ]
  },
  {
   "cell_type": "code",
   "execution_count": 20,
   "metadata": {},
   "outputs": [
    {
     "data": {
      "text/plain": [
       "'Chapter 1 A long trip'"
      ]
     },
     "execution_count": 20,
     "metadata": {},
     "output_type": "execute_result"
    }
   ],
   "source": [
    "title_h1.text"
   ]
  },
  {
   "cell_type": "code",
   "execution_count": 21,
   "metadata": {},
   "outputs": [],
   "source": [
    "page_content.insert(0, title_h1)"
   ]
  },
  {
   "cell_type": "code",
   "execution_count": 14,
   "metadata": {},
   "outputs": [
    {
     "data": {
      "text/plain": [
       "['Chapter 1 A long trip',\n",
       " 'Chapter 2 A new system',\n",
       " 'Chapter 3 The first discussion',\n",
       " 'Chapter 4 Putting the pieces together',\n",
       " 'Chapter 5 The second discussion',\n",
       " 'Chapter 6 Escape?',\n",
       " 'Chapter 7 The Giantraiders',\n",
       " 'Chapter 8 A time to rest',\n",
       " 'Chapter 9 A time to fight',\n",
       " 'Chapter 10 Davrar revealed',\n",
       " 'Chapter 11 Adventurers and Adventurers',\n",
       " 'Chapter 12 System Questions',\n",
       " 'Chapter 13 A grave threat',\n",
       " 'Chapter 14 Paragons of Adventure',\n",
       " 'Chapter 15 Gemore at last',\n",
       " 'Chapter 16 Adventurer Administration',\n",
       " 'Chapter 17 On the Town',\n",
       " 'Chapter 18 Introductions to Last',\n",
       " 'Chapter 19 Training Magic',\n",
       " 'Chapter 20 Bumps and Bruises',\n",
       " 'Chapter 21 Dodging Disadvantage',\n",
       " 'Chapter 22 Backgrounds and Warnings',\n",
       " 'Chapter 23 Basic Education',\n",
       " 'Chapter 24 Finally, a time skip',\n",
       " 'Chapter 25 A Mage’s Mansion',\n",
       " 'Chapter 26 A Mage’s Insight',\n",
       " 'Chapter 27 A Mage’s Feast',\n",
       " 'Chapter 28 Preparations for a Patrol',\n",
       " 'Chapter 29 A Blooding Patrol',\n",
       " 'Chapter 30 Discoveries',\n",
       " 'Chapter 31 Repercussions',\n",
       " 'Chapter 32 Money where your mouth is',\n",
       " 'Chapter 33 The payoff of Risk',\n",
       " 'Chapter 34 Return to Safety',\n",
       " 'Chapter 35 A Violent Debrief',\n",
       " 'Chapter 36 Private conversations',\n",
       " 'Chapter 37 Back to Normalcy',\n",
       " 'Chapter 38 Connections of Crafting',\n",
       " 'Chapter 39 Explanations of Explosive',\n",
       " 'Chapter 40 A spot of Mechanics',\n",
       " 'Chapter 41 Can you teach a mage multivariable calculus?',\n",
       " 'Chapter 42 Skill combinations',\n",
       " 'Chapter 43 Meditation on the move',\n",
       " 'Chapter 44 Introspection on Knowledge',\n",
       " 'Chapter 45 Skills and Socializing',\n",
       " 'Chapter 46 Correspondence from Afar',\n",
       " 'Chapter 47 Consequences for Treason',\n",
       " 'Chapter 48 A long-awaited letter',\n",
       " 'Chapter 49 Introduction to Witchcraft',\n",
       " 'Chapter 50 Divine Upbringing',\n",
       " 'Chapter 51 Clandestine Operations',\n",
       " 'Chapter 52 An unexpected exercise',\n",
       " 'Chapter 53 A light touch of Undeath',\n",
       " 'Chapter 54 A somewhat heavier touch of undeath',\n",
       " 'Chapter 55 Just some really heavy undead',\n",
       " 'Chapter 56 Building a church to yourself',\n",
       " 'Chapter 57 Random Road Encounters',\n",
       " 'Chapter 58 A Crisis of Faith',\n",
       " 'Chapter 59 Fruits are bourne',\n",
       " 'Chapter 60 A solid phase',\n",
       " 'Chapter 61 Flux across a surface',\n",
       " 'Chapter 62 A Growing Spark',\n",
       " 'Chapter 63 Weaponry in Motion',\n",
       " 'Chapter 64 Guns and Blades',\n",
       " 'Chapter 65 A frustrating Field',\n",
       " 'Chapter 66 Very Very Frightening',\n",
       " 'Chapter 67 The building charge',\n",
       " 'Chapter 68 The Tales of Endings',\n",
       " 'Chapter 69 An Aurora Duel',\n",
       " 'Book 2 Prologue: A meeting most monotonous',\n",
       " 'Chapter 1 A long fall',\n",
       " 'Chapter 2 Insights and Intuition',\n",
       " 'Chapter 3 A plan for the future',\n",
       " 'Chapter 4 New capabilities',\n",
       " 'Chapter 5 Old Rivals, New Friends',\n",
       " 'Chapter 6 Strange Readings',\n",
       " 'Chapter 7 Difficult Study Materials',\n",
       " 'Chapter 8 An Emerald Division',\n",
       " 'Chapter 9 Preemptive Siege Breaking',\n",
       " 'Chapter 10 Wherefore dost thou flee',\n",
       " 'Chapter 11 Town Delays',\n",
       " 'Chapter 12 Secrets of Storage',\n",
       " 'Chapter 13 A Field revisited',\n",
       " 'Chapter 14 End of Summer',\n",
       " 'Chapter 15 Puzzles of Magic',\n",
       " 'Chapter 16 A Grudge to Rest',\n",
       " 'Chapter 17 Ethics of Captivity',\n",
       " 'Chapter 18 Gemore once more',\n",
       " 'Chapter 19 Crafting Conundrums',\n",
       " 'Chapter 20 Guardian’s Challenge',\n",
       " 'Chapter 21 Guardian’s Farewell',\n",
       " 'Chapter 22 Into the Wilderness',\n",
       " 'Chapter 23 Wilderness montage',\n",
       " 'Chapter 24 A Lair of Ash and Venom',\n",
       " 'Chapter 25 A Glottal Stop',\n",
       " 'Chapter 26 To Mourn a Joker',\n",
       " 'Chapter 27 A Beast of Terror',\n",
       " 'Chapter 28 Dungeons? Dungeons!',\n",
       " 'Chapter 29 But Why a Dungeon?',\n",
       " 'Chapter 30 Dungeons are for Suckers',\n",
       " 'Chapter 31 Post-dungeon Hangovers',\n",
       " 'Chapter 32 A den of comfort',\n",
       " 'Chapter 33 The Leveling Game',\n",
       " 'Chapter 34 The Calm Before a Metal Storm',\n",
       " 'Chapter 35 A Catastrophe of a Plan',\n",
       " 'Chapter 36 A complicated battlefield',\n",
       " 'Chapter 37 Wait for it',\n",
       " 'Chapter 38 The second coming of Tesla',\n",
       " 'Chapter 39 When the cavalry wears the face of a foe',\n",
       " 'Chapter 40 To End a Swarm',\n",
       " 'Chapter 41 Glory in Battle',\n",
       " 'Chapter 42 Departing the Field of Victory',\n",
       " 'Chapter 43 The Worst Kind of Surprise',\n",
       " 'Chapter 44 Several Marathons',\n",
       " 'Chapter 45 An Unexpected Face',\n",
       " 'Chapter 46 Friend or Foe',\n",
       " 'Chapter 47 A Matter of Magic',\n",
       " 'Chapter 48 A Foreboding Future',\n",
       " 'Book 3 Prologue']"
      ]
     },
     "execution_count": 14,
     "metadata": {},
     "output_type": "execute_result"
    }
   ],
   "source": [
    "titles"
   ]
  }
 ],
 "metadata": {
  "kernelspec": {
   "display_name": "Python 3",
   "language": "python",
   "name": "python3"
  },
  "language_info": {
   "codemirror_mode": {
    "name": "ipython",
    "version": 3
   },
   "file_extension": ".py",
   "mimetype": "text/x-python",
   "name": "python",
   "nbconvert_exporter": "python",
   "pygments_lexer": "ipython3",
   "version": "3.9.13"
  },
  "orig_nbformat": 4
 },
 "nbformat": 4,
 "nbformat_minor": 2
}
